{
 "cells": [
  {
   "cell_type": "markdown",
   "id": "33a3151a-43ab-4d04-98b4-e1cc6846a95b",
   "metadata": {},
   "source": [
    "## Stemming is the process of reducing a word to its word stem that affixes to suffixes & prefixes or to the roots of words knowns as lemma. Stemming is very important part in natural language processing and natural language understanding."
   ]
  },
  {
   "cell_type": "code",
   "execution_count": 3,
   "id": "252ef1d3-8186-44d6-99b2-fed653796f97",
   "metadata": {},
   "outputs": [],
   "source": [
    "## classification problems\n",
    "## reviews - positive reviews, negative reviews"
   ]
  },
  {
   "cell_type": "code",
   "execution_count": 7,
   "id": "b2c4b823-5f45-4473-92bf-7f044861009f",
   "metadata": {},
   "outputs": [],
   "source": [
    "."
   ]
  },
  {
   "cell_type": "code",
   "execution_count": 90,
   "id": "5b0b05b0-e465-4d2c-9da4-11a87d40966b",
   "metadata": {},
   "outputs": [],
   "source": [
    "words=['write','writes','program','programming','programs','history','go','gone','going','congratulation','fairly','sportingly']"
   ]
  },
  {
   "cell_type": "code",
   "execution_count": 92,
   "id": "201fef2a-8a9e-425c-a3ed-dc0026907927",
   "metadata": {},
   "outputs": [],
   "source": [
    "## PortStemmer\n",
    "from nltk.stem import PorterStemmer"
   ]
  },
  {
   "cell_type": "code",
   "execution_count": 94,
   "id": "d36bd177-5f37-4024-8cee-a4200ba6d340",
   "metadata": {},
   "outputs": [],
   "source": [
    "stemming=PorterStemmer()"
   ]
  },
  {
   "cell_type": "code",
   "execution_count": 96,
   "id": "07b3804f-4466-42bc-b9f0-f8ddada553a7",
   "metadata": {},
   "outputs": [
    {
     "name": "stdout",
     "output_type": "stream",
     "text": [
      "write--->write\n",
      "writes--->write\n",
      "program--->program\n",
      "programming--->program\n",
      "programs--->program\n",
      "history--->histori\n",
      "go--->go\n",
      "gone--->gone\n",
      "going--->go\n",
      "congratulation--->congratul\n",
      "fairly--->fairli\n",
      "sportingly--->sportingli\n"
     ]
    }
   ],
   "source": [
    "for word in words:\n",
    "    print(word+'--->'+stemming.stem(word))"
   ]
  },
  {
   "cell_type": "markdown",
   "id": "842403ab-aa91-48ab-845a-68c418f1eb1f",
   "metadata": {},
   "source": [
    "## from above we can found some drawbacks of stemming for the words like 'history' and 'congratulation'"
   ]
  },
  {
   "cell_type": "markdown",
   "id": "86eb4bf5-39bb-462d-962b-e41146b365f0",
   "metadata": {},
   "source": [
    "## RegexpStemmer class\n",
    "NLTK has RegexpStemmer class with the help of which we can easily implement using regular expression stemmer algorithm. \n",
    "It basically takes a single regular expression and remove prefix or sufix that matches the expression"
   ]
  },
  {
   "cell_type": "code",
   "execution_count": 100,
   "id": "a30702fe-0005-4895-8254-7bb4c4523e2a",
   "metadata": {},
   "outputs": [],
   "source": [
    "from nltk.stem import RegexpStemmer"
   ]
  },
  {
   "cell_type": "code",
   "execution_count": 102,
   "id": "4aa6ed99-e814-448e-8741-d7027aea99aa",
   "metadata": {},
   "outputs": [],
   "source": [
    "reg_stemmer=RegexpStemmer('ing$|s$|e$|able$', min=4)"
   ]
  },
  {
   "cell_type": "code",
   "execution_count": 104,
   "id": "cf0e741e-fe15-4531-aa72-8f0947562083",
   "metadata": {},
   "outputs": [
    {
     "data": {
      "text/plain": [
       "'eat'"
      ]
     },
     "execution_count": 104,
     "metadata": {},
     "output_type": "execute_result"
    }
   ],
   "source": [
    "reg_stemmer.stem('eating')"
   ]
  },
  {
   "cell_type": "code",
   "execution_count": 106,
   "id": "001b13da-ac49-49a1-8b0f-479a41b1f12b",
   "metadata": {},
   "outputs": [
    {
     "data": {
      "text/plain": [
       "'download'"
      ]
     },
     "execution_count": 106,
     "metadata": {},
     "output_type": "execute_result"
    }
   ],
   "source": [
    "reg_stemmer.stem('downloadable')"
   ]
  },
  {
   "cell_type": "code",
   "execution_count": 108,
   "id": "ad777640-aeca-4855-a839-4e980adb0d33",
   "metadata": {},
   "outputs": [
    {
     "data": {
      "text/plain": [
       "'suit'"
      ]
     },
     "execution_count": 108,
     "metadata": {},
     "output_type": "execute_result"
    }
   ],
   "source": [
    "reg_stemmer.stem('suitable')"
   ]
  },
  {
   "cell_type": "code",
   "execution_count": 110,
   "id": "8c171bbd-1182-4076-983c-eae28a2ea765",
   "metadata": {},
   "outputs": [
    {
     "data": {
      "text/plain": [
       "'ignor'"
      ]
     },
     "execution_count": 110,
     "metadata": {},
     "output_type": "execute_result"
    }
   ],
   "source": [
    "reg_stemmer.stem('ignore')"
   ]
  },
  {
   "cell_type": "code",
   "execution_count": 112,
   "id": "45976d68-0527-4be8-ab15-b9a38f4f6162",
   "metadata": {},
   "outputs": [
    {
     "data": {
      "text/plain": [
       "'en'"
      ]
     },
     "execution_count": 112,
     "metadata": {},
     "output_type": "execute_result"
    }
   ],
   "source": [
    "reg_stemmer.stem('enable')"
   ]
  },
  {
   "cell_type": "code",
   "execution_count": 114,
   "id": "43b3ad41-f610-440c-804c-5a24322e2c43",
   "metadata": {},
   "outputs": [
    {
     "data": {
      "text/plain": [
       "'enabl'"
      ]
     },
     "execution_count": 114,
     "metadata": {},
     "output_type": "execute_result"
    }
   ],
   "source": [
    "reg_stemmer.stem('enabling')"
   ]
  },
  {
   "cell_type": "code",
   "execution_count": 116,
   "id": "e116620f-dbb1-46fd-afdc-a45263e71709",
   "metadata": {},
   "outputs": [
    {
     "data": {
      "text/plain": [
       "'ingenabl'"
      ]
     },
     "execution_count": 116,
     "metadata": {},
     "output_type": "execute_result"
    }
   ],
   "source": [
    "reg_stemmer.stem('ingenabling')"
   ]
  },
  {
   "cell_type": "markdown",
   "id": "3e631142-ec98-458f-bc58-04f4d6c52f57",
   "metadata": {},
   "source": [
    "## Snowball Stemmer"
   ]
  },
  {
   "cell_type": "code",
   "execution_count": 119,
   "id": "135f7c84-187e-4cd1-b66b-1e41b0835de0",
   "metadata": {},
   "outputs": [],
   "source": [
    "from nltk.stem import SnowballStemmer  ## some amazing result than portstemmer"
   ]
  },
  {
   "cell_type": "code",
   "execution_count": 121,
   "id": "79186aa1-b92a-4338-893d-4c43dfc54c03",
   "metadata": {},
   "outputs": [],
   "source": [
    "snowballstemmer=SnowballStemmer('english')"
   ]
  },
  {
   "cell_type": "code",
   "execution_count": 123,
   "id": "efd4c92e-f95f-40ec-876b-60ab28c93f76",
   "metadata": {},
   "outputs": [
    {
     "name": "stdout",
     "output_type": "stream",
     "text": [
      "write--->write\n",
      "writes--->write\n",
      "program--->program\n",
      "programming--->program\n",
      "programs--->program\n",
      "history--->histori\n",
      "go--->go\n",
      "gone--->gone\n",
      "going--->go\n",
      "congratulation--->congratul\n",
      "fairly--->fair\n",
      "sportingly--->sport\n"
     ]
    }
   ],
   "source": [
    "for word in words:\n",
    "    print(word+'--->'+snowballstemmer.stem(word))"
   ]
  },
  {
   "cell_type": "code",
   "execution_count": null,
   "id": "79bf2e3c-9071-4436-8bcc-37e4d816c120",
   "metadata": {},
   "outputs": [],
   "source": []
  },
  {
   "cell_type": "code",
   "execution_count": null,
   "id": "fe9c563d-b6af-4634-9469-747e7c0a4a70",
   "metadata": {},
   "outputs": [],
   "source": []
  },
  {
   "cell_type": "code",
   "execution_count": null,
   "id": "415101c2-93e6-4fac-8e0f-5c9463b9fec4",
   "metadata": {},
   "outputs": [],
   "source": []
  }
 ],
 "metadata": {
  "kernelspec": {
   "display_name": "python3.11",
   "language": "python",
   "name": "python3.11"
  },
  "language_info": {
   "codemirror_mode": {
    "name": "ipython",
    "version": 3
   },
   "file_extension": ".py",
   "mimetype": "text/x-python",
   "name": "python",
   "nbconvert_exporter": "python",
   "pygments_lexer": "ipython3",
   "version": "3.11.4"
  }
 },
 "nbformat": 4,
 "nbformat_minor": 5
}
