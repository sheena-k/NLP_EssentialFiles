{
 "cells": [
  {
   "cell_type": "markdown",
   "id": "a113fc6c-cbfa-4a88-85fe-3d4deb40f0ab",
   "metadata": {},
   "source": [
    "Lemmatization technique is like stemming. The output we get after lemmatization is called lemma, which is a root word rather tha a root stem, the output of stemming. After lemmatization we get a valid word that means the same thing."
   ]
  },
  {
   "cell_type": "markdown",
   "id": "11b098fa-39c5-4b4d-8edc-3f1fc5539fdc",
   "metadata": {},
   "source": [
    "NLTK provides WordNetLemmatizer which is a thin wrapper around the wordnet corpus. This class uses morphy() to the WordNet CorpusReader class to find a lemma."
   ]
  },
  {
   "cell_type": "code",
   "execution_count": 53,
   "id": "12a5dd9a-2f9b-45cb-9c9c-ab617a40f9e7",
   "metadata": {},
   "outputs": [],
   "source": [
    "from nltk.corpus import wordnet"
   ]
  },
  {
   "cell_type": "code",
   "execution_count": 55,
   "id": "8dff9de5-3e2f-4121-a5fd-7c4ee0110f6c",
   "metadata": {},
   "outputs": [],
   "source": [
    "from nltk.stem import WordNetLemmatizer"
   ]
  },
  {
   "cell_type": "code",
   "execution_count": 61,
   "id": "240df75f-7ee3-4e00-9428-85cbaf568009",
   "metadata": {},
   "outputs": [
    {
     "name": "stderr",
     "output_type": "stream",
     "text": [
      "[nltk_data] Downloading package wordnet to\n",
      "[nltk_data]     C:\\Users\\skshe\\AppData\\Roaming\\nltk_data...\n"
     ]
    },
    {
     "data": {
      "text/plain": [
       "True"
      ]
     },
     "execution_count": 61,
     "metadata": {},
     "output_type": "execute_result"
    }
   ],
   "source": [
    "import nltk\n",
    "nltk.download('wordnet')"
   ]
  },
  {
   "cell_type": "code",
   "execution_count": 63,
   "id": "61f54e6f-c08c-46ec-99a5-dea96b69f17d",
   "metadata": {},
   "outputs": [],
   "source": [
    "lemmatizer=WordNetLemmatizer()"
   ]
  },
  {
   "cell_type": "code",
   "execution_count": 65,
   "id": "cca5ce1b-5dce-42bc-b089-de2fe057351c",
   "metadata": {},
   "outputs": [
    {
     "data": {
      "text/plain": [
       "'go'"
      ]
     },
     "execution_count": 65,
     "metadata": {},
     "output_type": "execute_result"
    }
   ],
   "source": [
    "'''\n",
    "POS- Parts of Speech Noun-n\n",
    "Verb- v\n",
    "adjective- a\n",
    "adverb- r\n",
    "'''\n",
    "\n",
    "lemmatizer.lemmatize('going',pos='v')"
   ]
  },
  {
   "cell_type": "code",
   "execution_count": 67,
   "id": "1f393125-f620-49bf-bce8-287520c2521f",
   "metadata": {},
   "outputs": [
    {
     "data": {
      "text/plain": [
       "'going'"
      ]
     },
     "execution_count": 67,
     "metadata": {},
     "output_type": "execute_result"
    }
   ],
   "source": [
    "lemmatizer.lemmatize('going',pos='r')"
   ]
  },
  {
   "cell_type": "code",
   "execution_count": 69,
   "id": "eea6d13c-76f0-4d98-9f52-90a5d1eea30d",
   "metadata": {},
   "outputs": [],
   "source": [
    "words=['write','writes','go','going','goes','finally','sportingly','gaining','speak','speaking','apply','applying']"
   ]
  },
  {
   "cell_type": "code",
   "execution_count": 71,
   "id": "746724a9-fa94-4329-89b7-e561525d1553",
   "metadata": {},
   "outputs": [
    {
     "name": "stdout",
     "output_type": "stream",
     "text": [
      "write--->write\n",
      "writes--->writes\n",
      "go--->go\n",
      "going--->going\n",
      "goes--->go\n",
      "finally--->finally\n",
      "sportingly--->sportingly\n",
      "gaining--->gaining\n",
      "speak--->speak\n",
      "speaking--->speaking\n",
      "apply--->apply\n",
      "applying--->applying\n"
     ]
    }
   ],
   "source": [
    "for word in words:\n",
    "    print(word+'--->'+lemmatizer.lemmatize(word,pos='n'))"
   ]
  },
  {
   "cell_type": "code",
   "execution_count": 73,
   "id": "f063190a-8030-459f-a23d-ce6bebc0cc36",
   "metadata": {},
   "outputs": [
    {
     "name": "stdout",
     "output_type": "stream",
     "text": [
      "write--->write\n",
      "writes--->write\n",
      "go--->go\n",
      "going--->go\n",
      "goes--->go\n",
      "finally--->finally\n",
      "sportingly--->sportingly\n",
      "gaining--->gain\n",
      "speak--->speak\n",
      "speaking--->speak\n",
      "apply--->apply\n",
      "applying--->apply\n"
     ]
    }
   ],
   "source": [
    "for word in words:\n",
    "    print(word+'--->'+lemmatizer.lemmatize(word,pos='v'))"
   ]
  },
  {
   "cell_type": "code",
   "execution_count": null,
   "id": "6963df51-0ffa-4d9a-9592-29e8fcb1d2df",
   "metadata": {},
   "outputs": [],
   "source": []
  }
 ],
 "metadata": {
  "kernelspec": {
   "display_name": "python3.11",
   "language": "python",
   "name": "python3.11"
  },
  "language_info": {
   "codemirror_mode": {
    "name": "ipython",
    "version": 3
   },
   "file_extension": ".py",
   "mimetype": "text/x-python",
   "name": "python",
   "nbconvert_exporter": "python",
   "pygments_lexer": "ipython3",
   "version": "3.11.4"
  }
 },
 "nbformat": 4,
 "nbformat_minor": 5
}
