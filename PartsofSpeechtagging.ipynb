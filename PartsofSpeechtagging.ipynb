{
 "cells": [
  {
   "cell_type": "code",
   "execution_count": 2,
   "id": "efd00530-8789-494c-8dc8-bb1e7459773c",
   "metadata": {},
   "outputs": [],
   "source": [
    "### Paragraph on Tajmahal\n",
    "corpus='''The Taj Mahal is made of white marble, which was brought from Makrana in Rajasthan. The intricate designs on its walls include floral patterns and verses from the Quran, crafted with semi-precious stones like jade, lapis lazuli, and turquoise. The monument is surrounded by a beautifully landscaped garden, which follows the Charbagh layout, representing paradise in Islamic tradition.\n",
    "\n",
    "One of the most impressive features of the Taj Mahal is its symmetry. The main dome, which rises about 73 meters, is flanked by four minarets that lean slightly outward to protect the main structure in case of an earthquake. The reflection of the Taj in the Yamuna River adds to its breathtaking beauty, especially during sunrise and moonlit nights.'''"
   ]
  },
  {
   "cell_type": "code",
   "execution_count": 4,
   "id": "525d6e1c-6b63-4960-992d-98f244563591",
   "metadata": {},
   "outputs": [],
   "source": [
    "import nltk\n",
    "sentences=nltk.sent_tokenize(corpus)"
   ]
  },
  {
   "cell_type": "code",
   "execution_count": 6,
   "id": "15484758-c94a-44ea-9af7-1bf38e0c821a",
   "metadata": {},
   "outputs": [],
   "source": [
    "from nltk.corpus import stopwords"
   ]
  },
  {
   "cell_type": "code",
   "execution_count": 14,
   "id": "1fb03f34-10c3-4f15-81bd-07874557091d",
   "metadata": {},
   "outputs": [
    {
     "name": "stderr",
     "output_type": "stream",
     "text": [
      "[nltk_data] Downloading package averaged_perceptron_tagger to\n",
      "[nltk_data]     C:\\Users\\skshe\\AppData\\Roaming\\nltk_data...\n",
      "[nltk_data]   Unzipping taggers\\averaged_perceptron_tagger.zip.\n"
     ]
    },
    {
     "data": {
      "text/plain": [
       "True"
      ]
     },
     "execution_count": 14,
     "metadata": {},
     "output_type": "execute_result"
    }
   ],
   "source": [
    "nltk.download('averaged_perceptron_tagger')"
   ]
  },
  {
   "cell_type": "code",
   "execution_count": 16,
   "id": "0bd49538-6f86-4d3f-bfad-666e3bf77c27",
   "metadata": {},
   "outputs": [
    {
     "name": "stdout",
     "output_type": "stream",
     "text": [
      "[('The', 'DT'), ('Taj', 'NNP'), ('Mahal', 'NNP'), ('made', 'VBD'), ('white', 'JJ'), ('marble', 'NN'), (',', ','), ('brought', 'VBD'), ('Makrana', 'NNP'), ('Rajasthan', 'NNP'), ('.', '.')]\n",
      "[('The', 'DT'), ('intricate', 'JJ'), ('designs', 'NNS'), ('walls', 'NNS'), ('include', 'VBP'), ('floral', 'JJ'), ('patterns', 'NNS'), ('verses', 'NNS'), ('Quran', 'NNP'), (',', ','), ('crafted', 'VBD'), ('semi-precious', 'JJ'), ('stones', 'NNS'), ('like', 'IN'), ('jade', 'NN'), (',', ','), ('lapis', 'JJ'), ('lazuli', 'NN'), (',', ','), ('turquoise', 'NN'), ('.', '.')]\n",
      "[('The', 'DT'), ('monument', 'NN'), ('surrounded', 'VBD'), ('beautifully', 'RB'), ('landscaped', 'VBN'), ('garden', 'NN'), (',', ','), ('follows', 'VBZ'), ('Charbagh', 'NNP'), ('layout', 'NN'), (',', ','), ('representing', 'VBG'), ('paradise', 'NN'), ('Islamic', 'NNP'), ('tradition', 'NN'), ('.', '.')]\n",
      "[('One', 'CD'), ('impressive', 'JJ'), ('features', 'NNS'), ('Taj', 'NNP'), ('Mahal', 'NNP'), ('symmetry', 'NN'), ('.', '.')]\n",
      "[('The', 'DT'), ('main', 'JJ'), ('dome', 'NN'), (',', ','), ('rises', 'VBZ'), ('73', 'CD'), ('meters', 'NNS'), (',', ','), ('flanked', 'VBD'), ('four', 'CD'), ('minarets', 'NNS'), ('lean', 'VBP'), ('slightly', 'RB'), ('outward', 'JJ'), ('protect', 'NN'), ('main', 'JJ'), ('structure', 'NN'), ('case', 'NN'), ('earthquake', 'NN'), ('.', '.')]\n",
      "[('The', 'DT'), ('reflection', 'NN'), ('Taj', 'NNP'), ('Yamuna', 'NNP'), ('River', 'NNP'), ('adds', 'VBZ'), ('breathtaking', 'VBG'), ('beauty', 'NN'), (',', ','), ('especially', 'RB'), ('sunrise', 'JJ'), ('moonlit', 'NN'), ('nights', 'NNS'), ('.', '.')]\n"
     ]
    }
   ],
   "source": [
    "## POS tagging\n",
    "for i in range(len(sentences)):\n",
    "    words=nltk.word_tokenize(sentences[i])\n",
    "    words=[word for word in words if word not in set(stopwords.words('english'))]\n",
    "    pos_tag=nltk.pos_tag(words)\n",
    "    print(pos_tag)"
   ]
  },
  {
   "cell_type": "code",
   "execution_count": 20,
   "id": "a0afa3fd-38f2-4cf1-b452-6147d0deb8b3",
   "metadata": {},
   "outputs": [
    {
     "name": "stdout",
     "output_type": "stream",
     "text": [
      "[('Taj', 'NNP'), ('Mahal', 'NNP'), ('is', 'VBZ'), ('the', 'DT'), ('beautiful', 'JJ'), ('monument', 'NN')]\n"
     ]
    }
   ],
   "source": [
    "print(nltk.pos_tag(\"Taj Mahal is the beautiful monument\".split()))"
   ]
  },
  {
   "cell_type": "code",
   "execution_count": null,
   "id": "01a1a8bf-ce5f-4f4e-b1a3-501628e8094c",
   "metadata": {},
   "outputs": [],
   "source": []
  }
 ],
 "metadata": {
  "kernelspec": {
   "display_name": "python3.11",
   "language": "python",
   "name": "python3.11"
  },
  "language_info": {
   "codemirror_mode": {
    "name": "ipython",
    "version": 3
   },
   "file_extension": ".py",
   "mimetype": "text/x-python",
   "name": "python",
   "nbconvert_exporter": "python",
   "pygments_lexer": "ipython3",
   "version": "3.11.4"
  }
 },
 "nbformat": 4,
 "nbformat_minor": 5
}
